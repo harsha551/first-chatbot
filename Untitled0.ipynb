{
  "nbformat": 4,
  "nbformat_minor": 0,
  "metadata": {
    "colab": {
      "name": "Untitled0.ipynb",
      "provenance": [],
      "authorship_tag": "ABX9TyN8ouHEol6sqwHK1Vi5x+Tc",
      "include_colab_link": true
    },
    "kernelspec": {
      "name": "python3",
      "display_name": "Python 3"
    }
  },
  "cells": [
    {
      "cell_type": "markdown",
      "metadata": {
        "id": "view-in-github",
        "colab_type": "text"
      },
      "source": [
        "<a href=\"https://colab.research.google.com/github/harsha551/first-chatbot/blob/main/Untitled0.ipynb\" target=\"_parent\"><img src=\"https://colab.research.google.com/assets/colab-badge.svg\" alt=\"Open In Colab\"/></a>"
      ]
    },
    {
      "cell_type": "code",
      "metadata": {
        "id": "mKBEXm0yU7Lo",
        "outputId": "b692a4d1-31df-4c84-aee1-99672d8b0841",
        "colab": {
          "base_uri": "https://localhost:8080/",
          "height": 295
        }
      },
      "source": [
        "import random\n",
        "\n",
        "\n",
        "def welcome(name,gen):\n",
        "\n",
        "    greet1=['Warm greetings! ','Nice to meet you ']\n",
        "   \n",
        "    if gen=='Male':\n",
        "        return (random.choice(greet1)+'Mr. '+name+'\\n\\n'+'This chatbot is meant to show details about most number of EARTHQUAKES in a year')\n",
        "    elif gen=='Female':\n",
        "        return (random.choice(greet1)+'Miss. '+name+'\\n\\n'+'This chatbot is meant to show details about most number of EARTHQUAKES in a year')\n",
        "    else:\n",
        "        return (\"Sorry you have entered something wrong!\")\n",
        "\n",
        "def quake_year(yes):\n",
        "\n",
        "    if yes=='YES':\n",
        "        year=int(input('Enter a year between 2010-2020: '))\n",
        "        details=(d[year])\n",
        "        for i in details:\n",
        "            print('\\n'+i)\n",
        "        print('\\n'+\"These are the details you've asked for \"+name)\n",
        "        print('\\n'+\"Thank you for using me. Have a great day, \"+name+\". Please visit again!!!\"+'\\n')\n",
        "    elif yes=='NO':\n",
        "        return('Thank you for your visit. Hope to see you soon')\n",
        "    else:\n",
        "        return(\"Sorry didn't get you!\")\n",
        "\n",
        "\n",
        "d={2010:['Total number of Earthquakes across world in 2010: 2383','Highest magnitude: 7.0','Place: Haiti Islands'],2011:['Total number of Earthquakes across world in 2011: 2481','Highest magnitude: 9.1','Place: Japan'],2012:['Total number of Earthquakes across world in 2012: 1523','Highest magnitude: 7.4','Place: Japan'],2013:['Total number of Earthquakes across world in 2013: 1595','Highest magnitude: 8.3','Place: Philliphines'],2014:['Total number of Earthquakes across world in 2014: 1729','Highest magnitude: 8.2','Place: Chile'],2015:['Total number of Earthquakes across world in 2015: 1565','Highest magnitude: 7.9','Place: Nepal'],2016:['Total number of Earthquakes across world in 2016: 1696','Highest magnitude: 6.7','Place: Imphal'],2017:['Total number of Earthquakes across world in 2017: 1566','Highest magnitude: 7.3','Place: Iran'],2018:['Total number of Earthquakes across world in 2018: 1808','Highest magnitude: 8.2','Place: Indonesia'],2019:['Total number of Earthquakes across world in 2019: 1637','Highest magnitude: 8.0','Place: Peru'],2020:['Total number of Earthquakes across world in 2020: 1365','Highest magnitude: 7.8','Place: US']}\n",
        "\n",
        "greet=['Hi User! Great to see you here.','Welcome User! Glad to meet you!','Hello User! Heartly Welcome.']\n",
        " \n",
        "print(random.choice(greet))\n",
        "\n",
        "greet1=['Warm greetings! ','Nice to meet you ']\n",
        "\n",
        "name=input('Enter your name please: ')\n",
        "\n",
        "gen=input('Enter your gender please (Male/Female): ')\n",
        "\n",
        "welcome(name,gen)\n",
        "\n",
        "yes=input('Are you interested know about EARTHQUAKES in different years?(YES/NO): ')\n",
        "\n",
        "quake_year(yes)\n",
        "\n",
        "\n"
      ],
      "execution_count": 1,
      "outputs": [
        {
          "output_type": "stream",
          "text": [
            "Hi User! Great to see you here.\n",
            "Enter your name please: Harsha\n",
            "Enter your gender please (Male/Female): Male\n",
            "Are you interested know about EARTHQUAKES in different years?(YES/NO): YES\n",
            "Enter a year between 2010-2020: 2014\n",
            "\n",
            "Total number of Earthquakes across world in 2014: 1729\n",
            "\n",
            "Highest magnitude: 8.2\n",
            "\n",
            "Place: Chile\n",
            "\n",
            "These are the details you've asked for Harsha\n",
            "\n",
            "Thank you for using me. Have a great day, Harsha. Please visit again!!!\n",
            "\n"
          ],
          "name": "stdout"
        }
      ]
    }
  ]
}